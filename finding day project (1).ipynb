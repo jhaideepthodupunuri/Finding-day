{
 "cells": [
  {
   "cell_type": "code",
   "execution_count": 1,
   "metadata": {},
   "outputs": [],
   "source": [
    "def year_code(year):\n",
    "    \n",
    "    Ycode = 0\n",
    "    if year >= 1600 and year <= 1699:\n",
    "        Ycode = 6\n",
    "    elif year >= 1700 and year <= 1799:\n",
    "        Ycode = 4\n",
    "    elif year >= 1800 and year <= 1899:\n",
    "        Ycode = 2\n",
    "    elif year >= 1900 and year <= 1999:\n",
    "        Ycode = 0\n",
    "    elif year >= 2000 and year <= 2099:\n",
    "        Ycode = 6"
   ]
  },
  {
   "cell_type": "code",
   "execution_count": 2,
   "metadata": {},
   "outputs": [],
   "source": [
    "def month_code(month):\n",
    "    \n",
    "    if month == \"jan\".lower():\n",
    "        Mcode = 0\n",
    "    elif month == \"feb\".lower():\n",
    "        Mcode = 3\n",
    "    elif month == \"mar\".lower():\n",
    "        Mcode = 3\n",
    "    elif month == \"apr\".lower():\n",
    "        Mcode = 6\n",
    "    elif month == \"may\".lower():\n",
    "        Mcode = 1\n",
    "    elif month == \"june\".lower():\n",
    "        Mcode = 4\n",
    "    elif month == \"july\".lower():\n",
    "        Mcode = 6\n",
    "    elif month == \"aug\".lower():\n",
    "        Mcode = 2\n",
    "    elif month == \"sep\".lower():\n",
    "        Mcode = 5\n",
    "    elif month == \"oct\".lower():\n",
    "        Mcode = 0\n",
    "    elif month == \"nov\".lower():\n",
    "        Mcode = 3\n",
    "    elif month == \"dec\".lower():\n",
    "        Mcode = 5"
   ]
  },
  {
   "cell_type": "code",
   "execution_count": 3,
   "metadata": {},
   "outputs": [],
   "source": [
    "def week_code(week):\n",
    "    \n",
    "    if Wcode == 0:\n",
    "        print('you were born on SUNDAY')\n",
    "    elif Wcode == 1:\n",
    "        print('you were born on MONDAY')\n",
    "    elif Wcode == 2:\n",
    "        print('you were born on TUESDAY')\n",
    "    elif Wcode == 1:\n",
    "        print('you were born on WEDNESDAY')\n",
    "    elif Wcode == 1:\n",
    "        print('you were born on THRUSDAY')\n",
    "    elif Wcode == 1:\n",
    "        print('you were born on FRIDAY')\n",
    "    elif Wcode == 1:\n",
    "        print('you were born on SATURDAY')"
   ]
  },
  {
   "cell_type": "code",
   "execution_count": 4,
   "metadata": {},
   "outputs": [],
   "source": [
    "def last_two_digits(year):\n",
    "    \n",
    "    x = list(year)\n",
    "    y = '.join='"
   ]
  },
  {
   "cell_type": "code",
   "execution_count": 5,
   "metadata": {},
   "outputs": [],
   "source": [
    "def logic(date,Mcode,y,Ycode):\n",
    "    ans = date + Mcode + y + (y/4) + Ycode\n",
    "    Wcode = ans % 7\n",
    "    Wcode()"
   ]
  },
  {
   "cell_type": "code",
   "execution_count": 9,
   "metadata": {},
   "outputs": [
    {
     "name": "stdout",
     "output_type": "stream",
     "text": [
      "enter the date of your birth: 9\n",
      "enter the first three letters of your month of birth: sep\n",
      "enter the year you were born: 2000\n",
      "you were born on SATURDAY\n"
     ]
    }
   ],
   "source": [
    "date = int(input('enter the date of your birth: '))\n",
    "month = input('enter the first three letters of your month of birth: ')\n",
    "month_code(month)\n",
    "year = int(input('enter the year you were born: '))"
   ]
  },
  {
   "cell_type": "code",
   "execution_count": null,
   "metadata": {},
   "outputs": [],
   "source": []
  },
  {
   "cell_type": "code",
   "execution_count": null,
   "metadata": {},
   "outputs": [],
   "source": []
  }
 ],
 "metadata": {
  "kernelspec": {
   "display_name": "Python 3",
   "language": "python",
   "name": "python3"
  },
  "language_info": {
   "codemirror_mode": {
    "name": "ipython",
    "version": 3
   },
   "file_extension": ".py",
   "mimetype": "text/x-python",
   "name": "python",
   "nbconvert_exporter": "python",
   "pygments_lexer": "ipython3",
   "version": "3.7.6"
  }
 },
 "nbformat": 4,
 "nbformat_minor": 4
}
