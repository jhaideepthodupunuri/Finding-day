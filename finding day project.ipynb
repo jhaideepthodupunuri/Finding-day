{
 "cells": [
  {
   "cell_type": "code",
   "execution_count": 1,
   "metadata": {},
   "outputs": [],
   "source": [
    "def year_code(year):\n",
    "    \n",
    "    Ycode = 0\n",
    "    if year >= 1600 and year <= 1699:\n",
    "        Ycode = 6\n",
    "    elif year >= 1700 and year <= 1799:\n",
    "        Ycode = 4\n",
    "    elif year >= 1800 and year <= 1899:\n",
    "        Ycode = 2\n",
    "    elif year >= 1900 and year <= 1999:\n",
    "        Ycode = 0\n",
    "    elif year >= 2000 and year <= 2099:\n",
    "        Ycode = 6"
   ]
  },
  {
   "cell_type": "code",
   "execution_count": 25,
   "metadata": {},
   "outputs": [],
   "source": [
    "def month_code(month):\n",
    "    \n",
    "    if month == \"jan\".lower():\n",
    "        Mcode = 0\n",
    "    elif month == \"feb\".lower():\n",
    "        Mcode = 3\n",
    "    elif month == \"mar\".lower():\n",
    "        Mcode = 3\n",
    "    elif month == \"apr\".lower():\n",
    "        Mcode = 6\n",
    "    elif month == \"may\".lower():\n",
    "        Mcode = 1\n",
    "    elif month == \"june\".lower():\n",
    "        Mcode = 4\n",
    "    elif month == \"july\".lower():\n",
    "        Mcode = 6\n",
    "    elif month == \"aug\".lower():\n",
    "        Mcode = 2\n",
    "    elif month == \"sep\".lower():\n",
    "        Mcode = 5\n",
    "    elif month == \"oct\".lower():\n",
    "        Mcode = 0\n",
    "    elif month == \"nov\".lower():\n",
    "        Mcode = 3\n",
    "    elif month == \"dec\".lower():\n",
    "        Mcode = 5"
   ]
  },
  {
   "cell_type": "code",
   "execution_count": 26,
   "metadata": {},
   "outputs": [],
   "source": [
    "def week_code(week):\n",
    "    \n",
    "    if Wcode == 0:\n",
    "        print('you were born on SUNDAY')\n",
    "    elif Wcode == 1:\n",
    "        print('you were born on MONDAY')\n",
    "    elif Wcode == 2:\n",
    "        print('you were born on TUESDAY')\n",
    "    elif Wcode == 1:\n",
    "        print('you were born on WEDNESDAY')\n",
    "    elif Wcode == 1:\n",
    "        print('you were born on THRUSDAY')\n",
    "    elif Wcode == 1:\n",
    "        print('you were born on FRIDAY')\n",
    "    elif Wcode == 1:\n",
    "        print('you were born on SATURDAY')"
   ]
  },
  {
   "cell_type": "code",
   "execution_count": null,
   "metadata": {},
   "outputs": [],
   "source": [
    "def last_two_digits(year):\n",
    "    \n",
    "    x = list(year)\n",
    "    y = '.join='"
   ]
  },
  {
   "cell_type": "code",
   "execution_count": 27,
   "metadata": {},
   "outputs": [],
   "source": [
    "def logic(date,Mcode,y,Ycode):\n",
    "    ans = date + Mcode + y + (y/4) + Ycode\n",
    "    Wcode = ans % 7\n",
    "    Wcode()"
   ]
  },
  {
   "cell_type": "code",
   "execution_count": 30,
   "metadata": {},
   "outputs": [
    {
     "name": "stdout",
     "output_type": "stream",
     "text": [
      "enter the date of your birth: 9\n",
      "enter the first three letters of your month of birth: sep\n",
      "enter the year you were born: 2016\n"
     ]
    },
    {
     "ename": "TypeError",
     "evalue": "'>=' not supported between instances of 'str' and 'int'",
     "output_type": "error",
     "traceback": [
      "\u001b[1;31m---------------------------------------------------------------------------\u001b[0m",
      "\u001b[1;31mTypeError\u001b[0m                                 Traceback (most recent call last)",
      "\u001b[1;32m<ipython-input-30-d967e7ae2b3e>\u001b[0m in \u001b[0;36m<module>\u001b[1;34m\u001b[0m\n\u001b[0;32m      3\u001b[0m \u001b[0mmonth_code\u001b[0m\u001b[1;33m(\u001b[0m\u001b[0mmonth\u001b[0m\u001b[1;33m)\u001b[0m\u001b[1;33m\u001b[0m\u001b[1;33m\u001b[0m\u001b[0m\n\u001b[0;32m      4\u001b[0m \u001b[0myear\u001b[0m \u001b[1;33m=\u001b[0m \u001b[0minput\u001b[0m\u001b[1;33m(\u001b[0m\u001b[1;34m'enter the year you were born: '\u001b[0m\u001b[1;33m)\u001b[0m\u001b[1;33m\u001b[0m\u001b[1;33m\u001b[0m\u001b[0m\n\u001b[1;32m----> 5\u001b[1;33m \u001b[0myear_code\u001b[0m\u001b[1;33m(\u001b[0m\u001b[0myear\u001b[0m\u001b[1;33m)\u001b[0m\u001b[1;33m\u001b[0m\u001b[1;33m\u001b[0m\u001b[0m\n\u001b[0m\u001b[0;32m      6\u001b[0m \u001b[0mX\u001b[0m \u001b[1;33m=\u001b[0m \u001b[1;34m''\u001b[0m\u001b[1;33m.\u001b[0m\u001b[0mjoin\u001b[0m\u001b[1;33m(\u001b[0m\u001b[0mlist\u001b[0m\u001b[1;33m(\u001b[0m\u001b[0myear\u001b[0m\u001b[1;33m)\u001b[0m\u001b[1;33m[\u001b[0m\u001b[1;36m2\u001b[0m\u001b[1;33m:\u001b[0m\u001b[1;33m]\u001b[0m\u001b[1;33m)\u001b[0m\u001b[1;33m\u001b[0m\u001b[1;33m\u001b[0m\u001b[0m\n\u001b[0;32m      7\u001b[0m \u001b[0my\u001b[0m \u001b[1;33m=\u001b[0m \u001b[0mint\u001b[0m\u001b[1;33m(\u001b[0m\u001b[0mX\u001b[0m\u001b[1;33m)\u001b[0m\u001b[1;33m\u001b[0m\u001b[1;33m\u001b[0m\u001b[0m\n",
      "\u001b[1;32m<ipython-input-1-5b56747a615c>\u001b[0m in \u001b[0;36myear_code\u001b[1;34m(year)\u001b[0m\n\u001b[0;32m      1\u001b[0m \u001b[1;32mdef\u001b[0m \u001b[0myear_code\u001b[0m\u001b[1;33m(\u001b[0m\u001b[0myear\u001b[0m\u001b[1;33m)\u001b[0m\u001b[1;33m:\u001b[0m\u001b[1;33m\u001b[0m\u001b[1;33m\u001b[0m\u001b[0m\n\u001b[0;32m      2\u001b[0m \u001b[1;33m\u001b[0m\u001b[0m\n\u001b[1;32m----> 3\u001b[1;33m     \u001b[1;32mif\u001b[0m \u001b[0myear\u001b[0m \u001b[1;33m>=\u001b[0m \u001b[1;36m1600\u001b[0m \u001b[1;32mand\u001b[0m \u001b[0myear\u001b[0m \u001b[1;33m<=\u001b[0m \u001b[1;36m1699\u001b[0m\u001b[1;33m:\u001b[0m\u001b[1;33m\u001b[0m\u001b[1;33m\u001b[0m\u001b[0m\n\u001b[0m\u001b[0;32m      4\u001b[0m         \u001b[0mcode\u001b[0m \u001b[1;33m=\u001b[0m \u001b[1;36m6\u001b[0m\u001b[1;33m\u001b[0m\u001b[1;33m\u001b[0m\u001b[0m\n\u001b[0;32m      5\u001b[0m     \u001b[1;32melif\u001b[0m \u001b[0myear\u001b[0m \u001b[1;33m>=\u001b[0m \u001b[1;36m1700\u001b[0m \u001b[1;32mand\u001b[0m \u001b[0myear\u001b[0m \u001b[1;33m<=\u001b[0m \u001b[1;36m1799\u001b[0m\u001b[1;33m:\u001b[0m\u001b[1;33m\u001b[0m\u001b[1;33m\u001b[0m\u001b[0m\n",
      "\u001b[1;31mTypeError\u001b[0m: '>=' not supported between instances of 'str' and 'int'"
     ]
    }
   ],
   "source": [
    "date = int(input('enter the date of your birth: '))\n",
    "month = input('enter the first three letters of your month of birth: ')\n",
    "month_code(month)\n",
    "year = int(input('enter the year you were born: '))"
   ]
  },
  {
   "cell_type": "code",
   "execution_count": 24,
   "metadata": {},
   "outputs": [
    {
     "name": "stdout",
     "output_type": "stream",
     "text": [
      "str: J\n"
     ]
    },
    {
     "ename": "AttributeError",
     "evalue": "'str' object has no attribute 'lowercase'",
     "output_type": "error",
     "traceback": [
      "\u001b[1;31m---------------------------------------------------------------------------\u001b[0m",
      "\u001b[1;31mAttributeError\u001b[0m                            Traceback (most recent call last)",
      "\u001b[1;32m<ipython-input-24-7a323f85bd73>\u001b[0m in \u001b[0;36m<module>\u001b[1;34m\u001b[0m\n\u001b[0;32m      1\u001b[0m \u001b[0mmonth\u001b[0m \u001b[1;33m=\u001b[0m \u001b[0minput\u001b[0m\u001b[1;33m(\u001b[0m\u001b[1;34m'str: '\u001b[0m\u001b[1;33m)\u001b[0m\u001b[1;33m\u001b[0m\u001b[1;33m\u001b[0m\u001b[0m\n\u001b[1;32m----> 2\u001b[1;33m \u001b[0mmonth\u001b[0m\u001b[1;33m.\u001b[0m\u001b[0mlowercase\u001b[0m\u001b[1;33m(\u001b[0m\u001b[1;33m)\u001b[0m\u001b[1;33m\u001b[0m\u001b[1;33m\u001b[0m\u001b[0m\n\u001b[0m",
      "\u001b[1;31mAttributeError\u001b[0m: 'str' object has no attribute 'lowercase'"
     ]
    }
   ],
   "source": [
    "month = input('str: ')\n",
    "month.lowercase()"
   ]
  },
  {
   "cell_type": "code",
   "execution_count": null,
   "metadata": {},
   "outputs": [],
   "source": []
  }
 ],
 "metadata": {
  "kernelspec": {
   "display_name": "Python 3",
   "language": "python",
   "name": "python3"
  },
  "language_info": {
   "codemirror_mode": {
    "name": "ipython",
    "version": 3
   },
   "file_extension": ".py",
   "mimetype": "text/x-python",
   "name": "python",
   "nbconvert_exporter": "python",
   "pygments_lexer": "ipython3",
   "version": "3.7.6"
  }
 },
 "nbformat": 4,
 "nbformat_minor": 4
}
